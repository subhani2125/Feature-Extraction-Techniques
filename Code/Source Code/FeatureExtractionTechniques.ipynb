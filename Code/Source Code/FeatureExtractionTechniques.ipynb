{
  "nbformat": 4,
  "nbformat_minor": 0,
  "metadata": {
    "colab": {
      "provenance": []
    },
    "kernelspec": {
      "name": "python3",
      "display_name": "Python 3"
    },
    "language_info": {
      "name": "python"
    }
  },
  "cells": [
    {
      "cell_type": "markdown",
      "source": [
        "Import Data Set"
      ],
      "metadata": {
        "id": "pu07LPsMDxt6"
      }
    },
    {
      "cell_type": "code",
      "source": [
        "import pandas as pd\n",
        "base_path = \"/content/random_names_gender.csv\"\n",
        "ngd = pd.read_csv(base_path)"
      ],
      "metadata": {
        "id": "yA172kxuD1xF"
      },
      "execution_count": 3,
      "outputs": []
    },
    {
      "cell_type": "markdown",
      "source": [
        " Manually Feature Extraction"
      ],
      "metadata": {
        "id": "mRkqdiBnD839"
      }
    },
    {
      "cell_type": "code",
      "source": [
        "# Function to check if a name has an odd character count\n",
        "def is_odd_length(name):\n",
        "    return 1 if len(name) % 2 != 0 else 0\n",
        "\n",
        "# Function to check if the second last letter is a vowel\n",
        "def second_last_letter_is_vowel(name):\n",
        "    if len(name) > 1:\n",
        "        second_last_letter = name[-2].lower()\n",
        "        return 1 if second_last_letter in 'aeiou' else 0\n",
        "    return 0\n",
        "\n",
        "# Apply the functions to create the new columns\n",
        "ngd['alphabet_count'] = ngd['Name'].apply(is_odd_length)  # 1 if odd, 0 if even\n",
        "ngd['second_last_letter_vowel'] = ngd['Name'].apply(second_last_letter_is_vowel)  # 1 if vowel, 0 otherwise\n",
        "\n",
        "# Display the DataFrame with the new columns\n",
        "print(ngd)"
      ],
      "metadata": {
        "colab": {
          "base_uri": "https://localhost:8080/"
        },
        "id": "_9Yv9cL4EImW",
        "outputId": "cb275bd4-cbea-4e36-c9ec-9c6d3a34f3f4"
      },
      "execution_count": 4,
      "outputs": [
        {
          "output_type": "stream",
          "name": "stdout",
          "text": [
            "      Name  Gender  alphabet_count  second_last_letter_vowel\n",
            "0   Marcus    Male               0                         1\n",
            "1    Grace  Female               1                         0\n",
            "2    Damon    Male               1                         1\n",
            "3   Rachel  Female               0                         1\n",
            "4    James    Male               1                         1\n",
            "5     Faye  Female               0                         0\n",
            "6    Clark    Male               1                         0\n",
            "7     Dana  Female               0                         0\n",
            "8    Aaron    Male               1                         1\n",
            "9     Lynn  Female               0                         0\n",
            "10   Ethan    Male               1                         1\n",
            "11    Jill  Female               0                         0\n",
            "12   Jonah    Male               1                         1\n",
            "13    Emma  Female               0                         0\n",
            "14  Elijah    Male               0                         1\n",
            "15   Alice  Female               1                         0\n",
            "16  Adrian    Male               0                         1\n",
            "17  Brooke  Female               0                         0\n",
            "18   Jaden    Male               1                         1\n",
            "19    Dawn  Female               0                         0\n",
            "20   Oscar    Male               1                         1\n",
            "21     Ivy  Female               1                         0\n",
            "22   Lucas    Male               1                         1\n",
            "23    Skye  Female               0                         0\n",
            "24   Simon    Male               1                         1\n",
            "25   Faith  Female               1                         0\n",
            "26  Bryant    Male               0                         0\n",
            "27    Sage  Female               0                         0\n",
            "28  Kelvin    Male               0                         1\n",
            "29   Blair  Female               1                         1\n"
          ]
        }
      ]
    },
    {
      "cell_type": "markdown",
      "source": [
        "Split the Data:"
      ],
      "metadata": {
        "id": "46x3AZG6EQ93"
      }
    },
    {
      "cell_type": "code",
      "source": [
        "from sklearn.model_selection import train_test_split\n",
        "\n",
        "# Features and target variable\n",
        "X = ngd[['alphabet_count', 'second_last_letter_vowel']]\n",
        "y = ngd['Gender']\n",
        "\n",
        "# Split the data into train and test sets (80% train, 20% test)\n",
        "X_train, X_test, y_train, y_test = train_test_split(X, y, test_size=0.2, random_state=42)\n"
      ],
      "metadata": {
        "id": "7S3SaiH-EScp"
      },
      "execution_count": 8,
      "outputs": []
    },
    {
      "cell_type": "markdown",
      "source": [
        "Applying Classification Algorithm\n",
        "\n",
        "Logistic Regression:"
      ],
      "metadata": {
        "id": "PuWCYYaOEd6R"
      }
    },
    {
      "cell_type": "code",
      "source": [
        "from sklearn.linear_model import LogisticRegression\n",
        "from sklearn.metrics import accuracy_score, classification_report\n",
        "\n",
        "# Initialize the Logistic Regression model\n",
        "logreg = LogisticRegression()\n",
        "\n",
        "# Train the model\n",
        "logreg.fit(X_train, y_train)\n",
        "\n",
        "# Make predictions on the test set\n",
        "y_pred_logreg = logreg.predict(X_test)\n",
        "\n",
        "# Calculate accuracy and classification report\n",
        "accuracy_logreg = accuracy_score(y_test, y_pred_logreg)\n",
        "print(f\"Logistic Regression Accuracy: {accuracy_logreg}\")\n",
        "print(classification_report(y_test, y_pred_logreg))\n"
      ],
      "metadata": {
        "colab": {
          "base_uri": "https://localhost:8080/"
        },
        "id": "0SodnLbUEek6",
        "outputId": "38174bfa-501c-4857-d3a9-99efecd06a56"
      },
      "execution_count": 6,
      "outputs": [
        {
          "output_type": "stream",
          "name": "stdout",
          "text": [
            "Logistic Regression Accuracy: 1.0\n",
            "              precision    recall  f1-score   support\n",
            "\n",
            "      Female       1.00      1.00      1.00         5\n",
            "        Male       1.00      1.00      1.00         1\n",
            "\n",
            "    accuracy                           1.00         6\n",
            "   macro avg       1.00      1.00      1.00         6\n",
            "weighted avg       1.00      1.00      1.00         6\n",
            "\n"
          ]
        }
      ]
    },
    {
      "cell_type": "markdown",
      "source": [
        "Automated Feature Extraction\n",
        "\n",
        "Polynomial Feature Expansion:"
      ],
      "metadata": {
        "id": "JhHYVmtyRD22"
      }
    },
    {
      "cell_type": "code",
      "source": [
        "from sklearn.preprocessing import PolynomialFeatures\n",
        "\n",
        "# Apply PolynomialFeatures to increase the feature space\n",
        "poly = PolynomialFeatures(degree=2)\n",
        "X_poly = poly.fit_transform(X)  # X is the feature set from manual extraction\n",
        "\n",
        "print(f\"Shape after Polynomial Expansion: {X_poly.shape}\")"
      ],
      "metadata": {
        "colab": {
          "base_uri": "https://localhost:8080/"
        },
        "id": "rGXkKUNRRFjO",
        "outputId": "725eb7e0-1105-4e0f-fc21-924eb5580462"
      },
      "execution_count": 10,
      "outputs": [
        {
          "output_type": "stream",
          "name": "stdout",
          "text": [
            "Shape after Polynomial Expansion: (30, 6)\n"
          ]
        }
      ]
    },
    {
      "cell_type": "code",
      "source": [
        "X_poly"
      ],
      "metadata": {
        "colab": {
          "base_uri": "https://localhost:8080/"
        },
        "id": "kucBx2uVRRVx",
        "outputId": "82f06a31-f533-4f86-b6ca-4938aec13b58"
      },
      "execution_count": 11,
      "outputs": [
        {
          "output_type": "execute_result",
          "data": {
            "text/plain": [
              "array([[1., 0., 1., 0., 0., 1.],\n",
              "       [1., 1., 0., 1., 0., 0.],\n",
              "       [1., 1., 1., 1., 1., 1.],\n",
              "       [1., 0., 1., 0., 0., 1.],\n",
              "       [1., 1., 1., 1., 1., 1.],\n",
              "       [1., 0., 0., 0., 0., 0.],\n",
              "       [1., 1., 0., 1., 0., 0.],\n",
              "       [1., 0., 0., 0., 0., 0.],\n",
              "       [1., 1., 1., 1., 1., 1.],\n",
              "       [1., 0., 0., 0., 0., 0.],\n",
              "       [1., 1., 1., 1., 1., 1.],\n",
              "       [1., 0., 0., 0., 0., 0.],\n",
              "       [1., 1., 1., 1., 1., 1.],\n",
              "       [1., 0., 0., 0., 0., 0.],\n",
              "       [1., 0., 1., 0., 0., 1.],\n",
              "       [1., 1., 0., 1., 0., 0.],\n",
              "       [1., 0., 1., 0., 0., 1.],\n",
              "       [1., 0., 0., 0., 0., 0.],\n",
              "       [1., 1., 1., 1., 1., 1.],\n",
              "       [1., 0., 0., 0., 0., 0.],\n",
              "       [1., 1., 1., 1., 1., 1.],\n",
              "       [1., 1., 0., 1., 0., 0.],\n",
              "       [1., 1., 1., 1., 1., 1.],\n",
              "       [1., 0., 0., 0., 0., 0.],\n",
              "       [1., 1., 1., 1., 1., 1.],\n",
              "       [1., 1., 0., 1., 0., 0.],\n",
              "       [1., 0., 0., 0., 0., 0.],\n",
              "       [1., 0., 0., 0., 0., 0.],\n",
              "       [1., 0., 1., 0., 0., 1.],\n",
              "       [1., 1., 1., 1., 1., 1.]])"
            ]
          },
          "metadata": {},
          "execution_count": 11
        }
      ]
    },
    {
      "cell_type": "code",
      "source": [
        "y = ngd['Gender']\n",
        "\n",
        "# Split the data into train and test sets (80% train, 20% test)\n",
        "X_poly_train, X_poly_test, y_poly_train, y_poly_test = train_test_split(X_poly, y, test_size=0.2, random_state=42)\n",
        "\n",
        "# Initialize the Logistic Regression model\n",
        "logreg = LogisticRegression()\n",
        "\n",
        "# Train the model\n",
        "logreg.fit(X_poly_train, y_poly_train)\n",
        "\n",
        "# Make predictions on the test set\n",
        "y_pred_logreg = logreg.predict(X_poly_test)\n",
        "\n",
        "# Calculate accuracy and classification report\n",
        "accuracy_logreg = accuracy_score(y_poly_test, y_pred_logreg)\n",
        "print(f\"Logistic Regression Accuracy: {accuracy_logreg}\")\n",
        "print(classification_report(y_poly_test, y_pred_logreg))\n"
      ],
      "metadata": {
        "colab": {
          "base_uri": "https://localhost:8080/"
        },
        "id": "6zJyzk4pRUKo",
        "outputId": "54f58c19-0742-4d4c-cc93-176bdb0b0b4c"
      },
      "execution_count": 12,
      "outputs": [
        {
          "output_type": "stream",
          "name": "stdout",
          "text": [
            "Logistic Regression Accuracy: 1.0\n",
            "              precision    recall  f1-score   support\n",
            "\n",
            "      Female       1.00      1.00      1.00         5\n",
            "        Male       1.00      1.00      1.00         1\n",
            "\n",
            "    accuracy                           1.00         6\n",
            "   macro avg       1.00      1.00      1.00         6\n",
            "weighted avg       1.00      1.00      1.00         6\n",
            "\n"
          ]
        }
      ]
    }
  ]
}